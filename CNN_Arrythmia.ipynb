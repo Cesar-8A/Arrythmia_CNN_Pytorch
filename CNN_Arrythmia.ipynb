{
  "nbformat": 4,
  "nbformat_minor": 0,
  "metadata": {
    "colab": {
      "provenance": []
    },
    "kernelspec": {
      "name": "python3",
      "display_name": "Python 3"
    },
    "language_info": {
      "name": "python"
    },
    "gpuClass": "standard"
  },
  "cells": [
    {
      "cell_type": "code",
      "source": [
        "# Librerías\n",
        "import pandas as pd\n",
        "import numpy as np\n",
        "import matplotlib.pyplot as plt\n",
        "import seaborn as sns\n",
        "import pickle\n",
        "from sklearn.metrics import accuracy_score, mean_squared_error, confusion_matrix, classification_report\n",
        "import torch\n",
        "from torchvision import datasets\n",
        "from torchvision.transforms import ToTensor\n",
        "from torch.utils.data import DataLoader\n",
        "from torch.utils.data import Dataset\n",
        "import torch.nn as nn\n",
        "from torch import optim\n",
        "from torch.autograd import Variable\n",
        "from torch.utils.tensorboard import SummaryWriter\n",
        "import datetime, os\n",
        "import random\n",
        "from torch.nn.functional import normalize\n",
        "random.seed(10)"
      ],
      "metadata": {
        "id": "WE_d7dnnlW8q"
      },
      "execution_count": null,
      "outputs": []
    },
    {
      "cell_type": "code",
      "source": [
        "!pip install wfdb"
      ],
      "metadata": {
        "id": "8fY2Rjbw9u0K"
      },
      "execution_count": null,
      "outputs": []
    },
    {
      "cell_type": "code",
      "source": [
        "import wfdb"
      ],
      "metadata": {
        "id": "iImYCvmq94LK"
      },
      "execution_count": null,
      "outputs": []
    },
    {
      "cell_type": "code",
      "source": [
        "from google.colab import drive\n",
        "drive.mount(\"/content/gdrive\")"
      ],
      "metadata": {
        "colab": {
          "base_uri": "https://localhost:8080/"
        },
        "id": "MZRlXj6REBFa",
        "outputId": "fda8f666-6f94-4e16-a45b-de0bb5da250d"
      },
      "execution_count": null,
      "outputs": [
        {
          "output_type": "stream",
          "name": "stdout",
          "text": [
            "Mounted at /content/gdrive\n"
          ]
        }
      ]
    },
    {
      "cell_type": "code",
      "source": [
        "#Descargar el dataset\n",
        "wfdb.dl_database(\"mitdb\",\"/content/gdrive/MyDrive/CNN_DATA/Dataset\")"
      ],
      "metadata": {
        "id": "eKIv6qSwFiOj"
      },
      "execution_count": null,
      "outputs": []
    },
    {
      "cell_type": "code",
      "source": [
        "#data = wfdb.rdrecord(record_name=f\"/content/gdrive/MyDrive/CNN_DATA/Dataset/100\")\n",
        "#Genero una lista de los elementos del dataset\n",
        "records= wfdb.get_record_list(\"mitdb\")\n",
        "for record in records:\n",
        " if record == '102' or record == '104' or record == '107' or record ==  '217': #omitiendo las señales con marcapasos\n",
        "  records.remove(record)\n",
        "#La visualizo\n",
        "print(records)\n",
        "print(len(records))"
      ],
      "metadata": {
        "id": "fqjufE4c97Tx",
        "colab": {
          "base_uri": "https://localhost:8080/"
        },
        "outputId": "120e87bc-4850-47a3-afd9-bc24727b1e9f"
      },
      "execution_count": null,
      "outputs": [
        {
          "output_type": "stream",
          "name": "stdout",
          "text": [
            "['100', '101', '103', '105', '106', '108', '109', '111', '112', '113', '114', '115', '116', '117', '118', '119', '121', '122', '123', '124', '200', '201', '202', '203', '205', '207', '208', '209', '210', '212', '213', '214', '215', '219', '220', '221', '222', '223', '228', '230', '231', '232', '233', '234']\n",
            "44\n"
          ]
        }
      ]
    },
    {
      "cell_type": "code",
      "source": [
        "#Visualizamos una muestra de los datos:\n",
        "  #obtenemos una grabacion de la muestra 0 a 250 (aproximadamente un qrs)\n",
        "recordsig = wfdb.rdrecord(\"/content/gdrive/MyDrive/CNN_DATA/Dataset/100\", sampto=250, channels=[0])\n",
        "recordann = wfdb.rdann(\"/content/gdrive/MyDrive/CNN_DATA/Dataset/100\",\"atr\", sampto=250,return_label_elements=['symbol', 'label_store'])\n",
        "\n",
        "  #convertimos a matriz numpy\n",
        "muestra_1 = recordsig.p_signal\n",
        "simbolo=recordann.symbol\n",
        "etiqueta=recordann.label_store #trabajaremos con este\n",
        "\n",
        "\n",
        "  #Podemos visualizar la muestra en matriz:\n",
        "print(simbolo, etiqueta)\n",
        "\n",
        "\n",
        "  #Podemos visualizar la muestra graficamente con matplot\n",
        "%matplotlib inline \n",
        "plt.plot(muestra_1)\n",
        "#plt.savefig('fig1.png')#con este comando podemos guardar esa imagen"
      ],
      "metadata": {
        "colab": {
          "base_uri": "https://localhost:8080/",
          "height": 300
        },
        "id": "qSwdX63zJgEg",
        "outputId": "01da5a32-1c0a-4e0f-aabd-9c3807c30726"
      },
      "execution_count": null,
      "outputs": [
        {
          "output_type": "stream",
          "name": "stdout",
          "text": [
            "['+', 'N'] [28  1]\n"
          ]
        },
        {
          "output_type": "execute_result",
          "data": {
            "text/plain": [
              "[<matplotlib.lines.Line2D at 0x7fc56c94d0d0>]"
            ]
          },
          "metadata": {},
          "execution_count": 7
        },
        {
          "output_type": "display_data",
          "data": {
            "text/plain": [
              "<Figure size 432x288 with 1 Axes>"
            ],
            "image/png": "[encoded data removed]"
          },
          "metadata": {
            "needs_background": "light"
          }
        }
      ]
    },
    {
      "cell_type": "markdown",
      "source": [
        "Hay que recordar lo que physionet declara que significan los simbolos de sus anotaciones:\n",
        "\n",
        "1 = 'N' = Normal beat\n",
        "\n",
        "Otros = Arritmia"
      ],
      "metadata": {
        "id": "W0gNQ_S1bY4d"
      }
    },
    {
      "cell_type": "code",
      "source": [
        "#Incluso podemos generar una imagen en la cual visualizar la etiqueta en el complejo dado:\n",
        "wfdb.plot_wfdb(recordsig,recordann, time_units='seconds',title='FIG_1',ecg_grids='all')"
      ],
      "metadata": {
        "colab": {
          "base_uri": "https://localhost:8080/",
          "height": 295
        },
        "id": "BTQvFQ_NVj6O",
        "outputId": "4aa7349a-eba7-465c-faab-29622a1a4f4d"
      },
      "execution_count": null,
      "outputs": [
        {
          "output_type": "display_data",
          "data": {
            "text/plain": [
              "<Figure size 432x288 with 1 Axes>"
            ],
            "image/png": "[encoded data removed]"
          },
          "metadata": {
            "needs_background": "light"
          }
        }
      ]
    },
    {
      "cell_type": "code",
      "source": [
        "#ahora voy a sacar un vector correspondiente a 1 complejo pqrst\n",
        "#un loop que itere los elementos y obtenda un vector cada 250 muestras y los almacene en una matriz\n",
        "cont=0\n",
        "#hacemos listas vacias para almacenar nuestros datos\n",
        "muestras_lista=[]\n",
        "etiquetas_lista=[]\n",
        "\n",
        "for record in records:\n",
        "  for i in range(0, 171000*2, 750):#con una muestra cada 750 datos para tener aprox 10k datos\n",
        "   recordsig=wfdb.rdrecord(f\"/content/gdrive/MyDrive/CNN_DATA/Dataset/{record}\",sampfrom=i, sampto=i+750, channels=[0])\n",
        "   recordann=wfdb.rdann(f\"/content/gdrive/MyDrive/CNN_DATA/Dataset/{record}\",\"atr\",sampfrom=i, sampto=i+750, return_label_elements=['label_store'])\n",
        "\n",
        "   etiquetas_lista.append(recordann.label_store) #trabajaremos con los numeros de las etiquetas y no con su caracter asociado\n",
        "  \n",
        "   muestras_lista.append(recordsig.p_signal)#Estas de momento las dejaremos como numpy arrays\n",
        "   muestras_lista[cont]=muestras_lista[cont].squeeze()#Eliminamos la dimension vacia extra que nos dan\n",
        "   #print(muestras_lista[i].shape)\n",
        "\n",
        "   cont=cont+1 #para saber cuantas muestras se han generado\n",
        "   print(cont)"
      ],
      "metadata": {
        "id": "gmhw_kmaGwDi"
      },
      "execution_count": null,
      "outputs": []
    },
    {
      "cell_type": "code",
      "source": [
        "plt.plot(muestras_lista[20000]) #Mostrando una de las imagenes"
      ],
      "metadata": {
        "colab": {
          "base_uri": "https://localhost:8080/",
          "height": 282
        },
        "id": "xIczFMccxvhh",
        "outputId": "8ee6ca42-645e-4e55-b7e5-94b941183a5f"
      },
      "execution_count": null,
      "outputs": [
        {
          "output_type": "execute_result",
          "data": {
            "text/plain": [
              "[<matplotlib.lines.Line2D at 0x7fc56bd92350>]"
            ]
          },
          "metadata": {},
          "execution_count": 10
        },
        {
          "output_type": "display_data",
          "data": {
            "text/plain": [
              "<Figure size 432x288 with 1 Axes>"
            ],
            "image/png": "[encoded data removed]"
          },
          "metadata": {
            "needs_background": "light"
          }
        }
      ]
    },
    {
      "cell_type": "code",
      "source": [
        "def NormalizeData(data): #funcion para normalizar\n",
        "    #return (data - np.min(data)) / (np.max(data) - np.min(data))\n",
        "    result = (data - np.min(data))/np.ptp(data)\n",
        "    return result"
      ],
      "metadata": {
        "id": "XfSASvd1KCb3"
      },
      "execution_count": null,
      "outputs": []
    },
    {
      "cell_type": "code",
      "source": [
        "#Normalizamos los datos:\n",
        "for i in range(len(muestras_lista)):\n",
        "  muestras_lista[i]=NormalizeData(muestras_lista[i])\n",
        "\n",
        "\n",
        "#Necesitaremos que sean tensores float\n",
        "muestras_lista = [torch.from_numpy(item).float() for item in muestras_lista]\n",
        "etiquetas_lista = [torch.from_numpy(item).float() for item in etiquetas_lista]\n",
        "plt.plot(muestras_lista[3343].numpy()) #podemos ver los datos ya normalizados\n",
        "\n",
        "#Confirmamos que el datatype sea tensor:\n",
        "print(type(etiquetas_lista[0]))\n",
        "print(type(muestras_lista[0]))\n"
      ],
      "metadata": {
        "colab": {
          "base_uri": "https://localhost:8080/",
          "height": 300
        },
        "id": "77dzfWRVjDLS",
        "outputId": "9bb29a08-1611-4f93-ff7c-0fffbd781e25"
      },
      "execution_count": null,
      "outputs": [
        {
          "output_type": "stream",
          "name": "stdout",
          "text": [
            "<class 'torch.Tensor'>\n",
            "<class 'torch.Tensor'>\n"
          ]
        },
        {
          "output_type": "display_data",
          "data": {
            "text/plain": [
              "<Figure size 432x288 with 1 Axes>"
            ],
            "image/png": "[encoded data removed]"
          },
          "metadata": {
            "needs_background": "light"
          }
        }
      ]
    },
    {
      "cell_type": "code",
      "source": [
        "print(etiquetas_lista[:5]) #podemos visualizar las etiquetas que tenemos generadas\n",
        "#print(muestras_lista[:1])"
      ],
      "metadata": {
        "colab": {
          "base_uri": "https://localhost:8080/"
        },
        "id": "a9OwVK6M5X4k",
        "outputId": "29c41505-685a-44f2-ab1e-a90c0fe3fd11"
      },
      "execution_count": null,
      "outputs": [
        {
          "output_type": "stream",
          "name": "stdout",
          "text": [
            "[tensor([28.,  1.,  1.,  1.]), tensor([1., 1.]), tensor([1., 1., 8.]), tensor([1., 1., 1.]), tensor([1., 1.])]\n"
          ]
        }
      ]
    },
    {
      "cell_type": "code",
      "source": [
        "#Ahora necesitamos aclarar bien que etiqueta debera recibir la red, en este caso particular solo queremos que nos diga si el complejo\n",
        "#analizado tiene o no arritmia, por lo que a nuestra lista que almacena la etiqueta la pondremos a 1 si para indicar que si hay arrtimia\n",
        "#y a 0 para indicar que no\n",
        "for i in range(10032*2):\n",
        "  if 1 in etiquetas_lista[i]: #recordemos que 28 es el indicador de un ritmo desincronizado\n",
        "    etiquetas_lista[i]=0\n",
        "  else:\n",
        "    etiquetas_lista[i]=1\n"
      ],
      "metadata": {
        "id": "jhJTslnA3wKV"
      },
      "execution_count": null,
      "outputs": []
    },
    {
      "cell_type": "code",
      "source": [
        "#Vamos a ver que proporcion tenemos en los datos\n",
        "dict(zip(etiquetas_lista,map(lambda x: etiquetas_lista.count(x),etiquetas_lista)))\n",
        "#Esto nos mostrara un diccionario donde nos dira en cuantos datos hay arritmia y en cuantos  no (recordando que 1 es para arritmia y 0 para no arritmia)"
      ],
      "metadata": {
        "colab": {
          "base_uri": "https://localhost:8080/"
        },
        "id": "aqm05dIG9INp",
        "outputId": "dd2457ef-f4f1-405a-bd42-9161ae258efd"
      },
      "execution_count": null,
      "outputs": [
        {
          "output_type": "execute_result",
          "data": {
            "text/plain": [
              "{0: 16093, 1: 3971}"
            ]
          },
          "metadata": {},
          "execution_count": 15
        }
      ]
    },
    {
      "cell_type": "code",
      "source": [
        "#Metemos los datos a un dataframe, para que sea mas entendible, haremos 2 dataframes, uno para los \n",
        "#Datos de entrenamiento y otro para los datos de testing\n",
        "DATAF_Test= pd.DataFrame(columns=['señal','etiqueta'])\n",
        "for i in range(2000*2): # 20% del total\n",
        "  DATAF_Test=DATAF_Test.append({'señal': muestras_lista[i], 'etiqueta':etiquetas_lista[i]}, ignore_index=True)\n",
        "  #print(DATAF_Test)   #Con esto visualizariamos la creacion del dataframe\n",
        "\n",
        "DATAF_Train= pd.DataFrame(columns=['señal','etiqueta'])\n",
        "for i in range(2000*2, 10000*2): #80% del total\n",
        "  DATAF_Train=DATAF_Train.append({'señal': muestras_lista[i], 'etiqueta':etiquetas_lista[i]}, ignore_index=True)\n",
        "  #print(DATAF_Train)  #Con esto visualizariamos la creacion del dataframe"
      ],
      "metadata": {
        "id": "KzhYhZ6V09UZ"
      },
      "execution_count": null,
      "outputs": []
    },
    {
      "cell_type": "code",
      "source": [
        "#Lo podemos exportar a  un CSV\n",
        "DATAF_Test.to_csv('/content/gdrive/MyDrive/CNN_DATA/ARRITMIA_DATA_Test.csv', index=False)\n",
        "DATAF_Train.to_csv('/content/gdrive/MyDrive/CNN_DATA/ARRITMIA_DATA_Train.csv', index=False)"
      ],
      "metadata": {
        "id": "Ma-44-iN1qRW"
      },
      "execution_count": null,
      "outputs": []
    },
    {
      "cell_type": "code",
      "source": [
        "#Hacemos una clase que tenga metodos \"len\" y \"getitem\" los cuales son solicitados mas adelante\n",
        "class ProcessDataFrame(Dataset):\n",
        "    def __init__(self, dataset):\n",
        "        self.dataset = dataset\n",
        "        self.x = self.dataset['señal'].values\n",
        "        self.y = self.dataset['etiqueta'].values\n",
        "    def __len__(self):\n",
        "        return len(self.dataset)\n",
        "    def __getitem__(self, idx):\n",
        "        return self.x[idx], self.y[idx]"
      ],
      "metadata": {
        "id": "qc3LuMdUSMWB"
      },
      "execution_count": null,
      "outputs": []
    },
    {
      "cell_type": "code",
      "source": [
        "#Creamos objetos para train y test de la clase para procesar\n",
        "\n",
        "Data_Test=ProcessDataFrame(DATAF_Test)\n",
        "Data_Train=ProcessDataFrame(DATAF_Train)\n"
      ],
      "metadata": {
        "id": "915fMsF2e4EJ"
      },
      "execution_count": null,
      "outputs": []
    },
    {
      "cell_type": "code",
      "source": [
        "#Usamos dataloader de torch para alistar los datos para la red\n",
        "#Es aqui donde se requiere que los datos entregados sean un objeto con los atributos mencionados (len y getitem)\n",
        "loaders = {\n",
        "    'train' : torch.utils.data.DataLoader(Data_Train, \n",
        "                                          batch_size=16, \n",
        "                                          shuffle=True, \n",
        "                                          num_workers=1), \n",
        "    'test'  : torch.utils.data.DataLoader(Data_Test, \n",
        "                                          batch_size=16, \n",
        "                                          shuffle=True, \n",
        "                                          num_workers=1)}\n",
        "loaders"
      ],
      "metadata": {
        "id": "XVey1gf2Od_6"
      },
      "execution_count": null,
      "outputs": []
    },
    {
      "cell_type": "code",
      "source": [
        "#Checamos el tamaño de cada loader, es importante que sea divisible entre 5, el batchsize que usamos\n",
        "print(len(loaders['test']))\n",
        "print(len(loaders['train']))"
      ],
      "metadata": {
        "colab": {
          "base_uri": "https://localhost:8080/"
        },
        "id": "luGAmM957Xpn",
        "outputId": "356bb87b-e00b-4b99-e364-fed630bcfec9"
      },
      "execution_count": null,
      "outputs": [
        {
          "output_type": "stream",
          "name": "stdout",
          "text": [
            "250\n",
            "1000\n"
          ]
        }
      ]
    },
    {
      "cell_type": "code",
      "source": [
        "from torch.nn.modules.activation import ReLU\n",
        "\n",
        "class CNN(torch.nn.Module):\n",
        "\tdef __init__(self):\n",
        "\t\tsuper().__init__()\n",
        "\t\tself.model = torch.nn.Sequential(\n",
        "\t\t\ttorch.nn.Conv1d(in_channels = 1, out_channels = 32, kernel_size = 1, padding = 1),\n",
        "\t\t\ttorch.nn.ReLU(),\n",
        "\t\t\ttorch.nn.Conv1d(in_channels = 32, out_channels = 1, kernel_size = 1, padding = 1),\n",
        "\t\t\ttorch.nn.ReLU(),\n",
        "\n",
        "\t\t\ttorch.nn.Flatten(),\n",
        "\t\t\ttorch.nn.Linear(754, 512),\n",
        "\t\t\ttorch.nn.ReLU(),\n",
        "\t\t\ttorch.nn.Linear(512, 1),\n",
        "      torch.nn.Sigmoid(),\n",
        "      torch.nn.Linear(1, 1),\n",
        "      torch.nn.Dropout()\n",
        "\t\t)\n",
        "\n",
        "\tdef forward(self, x):\n",
        "\t\treturn self.model(x).view(16)"
      ],
      "metadata": {
        "id": "gIZqE1JUOZjJ"
      },
      "execution_count": null,
      "outputs": []
    },
    {
      "cell_type": "code",
      "source": [
        "cnn = CNN() #\"materializamos\" el modelo\n",
        "print(cnn)"
      ],
      "metadata": {
        "id": "lQcE209SOt6B"
      },
      "execution_count": null,
      "outputs": []
    },
    {
      "cell_type": "code",
      "source": [
        "# Función de costo\n",
        "criterion = nn.BCELoss()\n",
        "# Función de optimización\n",
        "optimizer = optim.Adam(cnn.parameters(), lr = 0.5)"
      ],
      "metadata": {
        "id": "fA9hemGXOxiY"
      },
      "execution_count": null,
      "outputs": []
    },
    {
      "cell_type": "code",
      "source": [
        "num_epochs = 10\n",
        "train_loss_list = []\n",
        "for epoch in range(num_epochs):\n",
        " print(f'Epoch {epoch+1}/{num_epochs}:', end = ' ')\n",
        " train_loss = 0\n",
        " #Iterating over the training dataset in batches\n",
        " cnn.train(True)\n",
        " for i, (señal, etiqueta) in enumerate(loaders['train']):\n",
        "  #Calculating the model output and the cross entropy loss\n",
        "  señal=señal.view(16,1,750) #acomodamos los datos de muestra para que sean congruentes a batch, 1 channel y 750 longitud de señal\n",
        "  outputs = cnn(señal)\n",
        "  señal=señal.view(16,750)\n",
        "  plt.plot(señal)\n",
        "  for i in range(16): #Definiendo el rango, resultado negativo sera 0 y positivo sera 1\n",
        "    if outputs[i] < 0:\n",
        "      outputs[i]=0\n",
        "    else:\n",
        "      outputs[i]=1\n",
        "  #print(outputs)\n",
        "  #señal= Variable(señal)\n",
        "  #etiqueta= Variable(etiqueta)\n",
        "  loss = criterion(outputs, etiqueta.float())\n",
        "  #Updating weights according to calculated loss\n",
        "  optimizer.zero_grad()\n",
        "  loss.backward()\n",
        "  optimizer.step()\n",
        "  train_loss += loss.item()\t\n",
        " #Printing loss for each epoch\n",
        " train_loss_list.append(train_loss/len(loaders['train']))\n",
        " print(f\"Training loss = {train_loss_list[-1]}\")\n",
        "\t\n",
        "#Plotting loss for all epochs\n",
        "plt.plot(range(1,num_epochs+1), train_loss_list)\n",
        "plt.xlabel(\"Number of epochs\")\n",
        "plt.ylabel(\"Training loss\")\n"
      ],
      "metadata": {
        "id": "btNLFLb_V-y_"
      },
      "execution_count": null,
      "outputs": []
    },
    {
      "cell_type": "code",
      "source": [
        "# Visualización de resultados\n",
        "writer = SummaryWriter()\n",
        "\n",
        "for n_iter in range(25):\n",
        "    writer.add_scalar('Loss/train', np.random.random(), n_iter)\n",
        "    writer.add_scalar('Loss/test', np.random.random(), n_iter)\n",
        "    writer.add_scalar('Accuracy/train', np.random.random(), n_iter)\n",
        "    writer.add_scalar('Accuracy/test', np.random.random(), n_iter)"
      ],
      "metadata": {
        "id": "U6uWmUK5lbiI"
      },
      "execution_count": null,
      "outputs": []
    },
    {
      "cell_type": "code",
      "source": [
        "# Evaluación\n",
        "\n",
        "def test():\n",
        "    # Test the model\n",
        "    cnn.eval()    \n",
        "    with torch.no_grad():\n",
        "        correct = 0\n",
        "        total = 0\n",
        "        for señal, etiqueta in loaders['test']:\n",
        "            #print(señal.size())\n",
        "            señal=señal.view(16,1,750)\n",
        "            test_output = cnn(señal)\n",
        "            #print(señal)\n",
        "            for i in range(16): #Definiendo el rango, resultado negativo sera 0 y positivo sera 1\n",
        "             if test_output[i] < 0:\n",
        "                test_output[i]=0\n",
        "             else:\n",
        "              test_output[i]=1\n",
        "            pred_y = test_output\n",
        "            #print(pred_y)\n",
        "            accuracy = (pred_y == etiqueta).sum().item() / float(etiqueta.size(0))\n",
        "            pass\n",
        "\n",
        "    print('Test Accuracy of the model on the 2000 samples: %.4f' % accuracy)\n",
        "    \n",
        "    pass\n",
        "test()"
      ],
      "metadata": {
        "colab": {
          "base_uri": "https://localhost:8080/"
        },
        "id": "C-RTP_gfPwTM",
        "outputId": "e75cce40-57a5-4851-f029-5c1988809911"
      },
      "execution_count": null,
      "outputs": [
        {
          "output_type": "stream",
          "name": "stdout",
          "text": [
            "Test Accuracy of the model on the 2000 samples: 0.8125\n"
          ]
        }
      ]
    }
  ]
}